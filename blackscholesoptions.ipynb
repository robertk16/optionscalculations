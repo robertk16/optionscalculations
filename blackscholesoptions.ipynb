{
 "cells": [
  {
   "cell_type": "code",
   "execution_count": 1,
   "metadata": {},
   "outputs": [],
   "source": [
    "import numpy as np\n",
    "from math import log, sqrt, pi, exp\n",
    "from scipy.stats import norm\n",
    "from datetime import datetime, date\n",
    "import numpy as np\n",
    "import pandas as pd\n",
    "import pandas as pd\n",
    "import matplotlib.pyplot as mp\n",
    "#import pandas_datareader.data as web"
   ]
  },
  {
   "cell_type": "code",
   "execution_count": 3,
   "metadata": {},
   "outputs": [],
   "source": [
    "def d1(S,K,T,r,sigma):\n",
    "    return(log(S/K)+(r+sigma**2/2.)*T)/sigma*sqrt(T)\n",
    "def d2(S,K,T,r,sigma):\n",
    "    return d1(S,K,T,r,sigma)-sigma*sqrt(T)"
   ]
  },
  {
   "cell_type": "code",
   "execution_count": 4,
   "metadata": {},
   "outputs": [],
   "source": [
    "def bs_call(S,K,T,r,sigma):\n",
    "    return S*norm.cdf(d1(S,K,T,r,sigma))-K*exp(-r*T)*norm.cdf(d2(S,K,T,r,sigma))\n",
    "  \n",
    "def bs_put(S,K,T,r,sigma):\n",
    "    return K*exp(-r*T)-S+bs_call(S,K,T,r,sigma)"
   ]
  },
  {
   "cell_type": "code",
   "execution_count": 11,
   "metadata": {},
   "outputs": [],
   "source": [
    "def call_implied_volatility(Price, S, K, T, r):\n",
    "    sigma = 0.001\n",
    "    while sigma < 1:\n",
    "        Price_implied = S * \\\n",
    "            norm.cdf(d1(S, K, T, r, sigma))-K*exp(-r*T) * \\\n",
    "            norm.cdf(d2(S, K, T, r, sigma))\n",
    "        if Price-(Price_implied) < 0.001:\n",
    "            return sigma\n",
    "        sigma += 0.001\n",
    "    return \"Not Found\"\n",
    "\n",
    "def put_implied_volatility(Price, S, K, T, r):\n",
    "    sigma = 0.001\n",
    "    while sigma < 1:\n",
    "        Price_implied = K*exp(-r*T)-S+bs_call(S, K, T, r, sigma)\n",
    "        if Price-(Price_implied) < 0.001:\n",
    "            return sigma\n",
    "        sigma += 0.001\n",
    "    return \"Not Found\"\n",
    "\n"
   ]
  },
  {
   "cell_type": "code",
   "execution_count": 35,
   "metadata": {},
   "outputs": [],
   "source": [
    "def call_delta(S,K,T,r,sigma):\n",
    "    print(T)\n",
    "    print(d1(S,K,T,r,sigma))\n",
    "    return norm.cdf(d1(S,K,T,r,sigma))\n",
    "def call_gamma(S,K,T,r,sigma):\n",
    "    return norm.pdf(d1(S,K,T,r,sigma))/(S*sigma*sqrt(T))\n",
    "def call_vega(S,K,T,r,sigma):\n",
    "    return 0.01*(S*norm.pdf(d1(S,K,T,r,sigma))*sqrt(T))\n",
    "def call_theta(S,K,T,r,sigma):\n",
    "    return 0.01*(-(S*norm.pdf(d1(S,K,T,r,sigma))*sigma)/(2*sqrt(T)) - r*K*exp(-r*T)*norm.cdf(d2(S,K,T,r,sigma)))\n",
    "def call_rho(S,K,T,r,sigma):\n",
    "    return 0.01*(K*T*exp(-r*T)*norm.cdf(d2(S,K,T,r,sigma)))\n",
    "    \n",
    "def put_delta(S,K,T,r,sigma):\n",
    "    return -norm.cdf(-d1(S,K,T,r,sigma))\n",
    "def put_gamma(S,K,T,r,sigma):\n",
    "    return norm.pdf(d1(S,K,T,r,sigma))/(S*sigma*sqrt(T))\n",
    "def put_vega(S,K,T,r,sigma):\n",
    "    return 0.01*(S*norm.pdf(d1(S,K,T,r,sigma))*sqrt(T))\n",
    "def put_theta(S,K,T,r,sigma):\n",
    "    return 0.01*(-(S*norm.pdf(d1(S,K,T,r,sigma))*sigma)/(2*sqrt(T)) + r*K*exp(-r*T)*norm.cdf(-d2(S,K,T,r,sigma)))\n",
    "def put_rho(S,K,T,r,sigma):\n",
    "    return 0.01*(-K*T*exp(-r*T)*norm.cdf(-d2(S,K,T,r,sigma)))"
   ]
  },
  {
   "cell_type": "code",
   "execution_count": null,
   "metadata": {},
   "outputs": [],
   "source": []
  },
  {
   "cell_type": "code",
   "execution_count": 40,
   "metadata": {},
   "outputs": [
    {
     "name": "stdout",
     "output_type": "stream",
     "text": [
      "Call:  0.4508590153318899\n",
      "Put:  -2.277835885111166\n"
     ]
    }
   ],
   "source": [
    "\n",
    "\n",
    "expiry = '05-18-2021'\n",
    "strike_call = 20\n",
    "strike_put = 10\n",
    "\n",
    "today = datetime.now()\n",
    "#one_year_ago = today.replace(year=today.year-1)\n",
    "\n",
    "#df = web.DataReader(stock, 'yahoo', one_year_ago, today)\n",
    "\n",
    "\n",
    "returns = np.random.normal(loc=0.0008, scale=0.02, size=1000)\n",
    "\n",
    "sigma = np.sqrt(252) * returns.std() #annualized std\n",
    "uty = 0 #riskfree APY\n",
    "lcp = 19.5 #last closing price\n",
    "t = (datetime.strptime(expiry, \"%m-%d-%Y\") - datetime.utcnow()).days / 365\n",
    "\n",
    "print('Call: ', bs_call(lcp, strike_call, t, uty, sigma))\n",
    "print('Put: ', bs_put(lcp, strike_put, t, uty, sigma))"
   ]
  },
  {
   "cell_type": "code",
   "execution_count": 9,
   "metadata": {},
   "outputs": [],
   "source": [
    "prices=np.ones(len(returns))\n",
    "prices[-1]=lcp\n",
    "for i in range(len(returns)-1,0,-1):\n",
    "    prices[i-1]=(prices[i]/(np.exp(returns[i])))"
   ]
  },
  {
   "cell_type": "code",
   "execution_count": 13,
   "metadata": {},
   "outputs": [
    {
     "name": "stdout",
     "output_type": "stream",
     "text": [
      "Implied Volatility: Not FoundNot FoundNot FoundNot FoundNot FoundNot FoundNot FoundNot FoundNot FoundNot FoundNot FoundNot FoundNot FoundNot FoundNot FoundNot FoundNot FoundNot FoundNot FoundNot FoundNot FoundNot FoundNot FoundNot FoundNot FoundNot FoundNot FoundNot FoundNot FoundNot FoundNot FoundNot FoundNot FoundNot FoundNot FoundNot FoundNot FoundNot FoundNot FoundNot FoundNot FoundNot FoundNot FoundNot FoundNot FoundNot FoundNot FoundNot FoundNot FoundNot FoundNot FoundNot FoundNot FoundNot FoundNot FoundNot FoundNot FoundNot FoundNot FoundNot FoundNot FoundNot FoundNot FoundNot FoundNot FoundNot FoundNot FoundNot FoundNot FoundNot FoundNot FoundNot FoundNot FoundNot FoundNot FoundNot FoundNot FoundNot FoundNot FoundNot FoundNot FoundNot FoundNot FoundNot FoundNot FoundNot FoundNot FoundNot FoundNot FoundNot FoundNot FoundNot FoundNot FoundNot FoundNot FoundNot FoundNot FoundNot FoundNot FoundNot Found %\n"
     ]
    }
   ],
   "source": [
    "print(\"Implied Volatility: \" +\n",
    "      str(100 * call_implied_volatility(3.7, lcp, strike_call, t, uty,)) + \" %\")"
   ]
  },
  {
   "cell_type": "code",
   "execution_count": 14,
   "metadata": {},
   "outputs": [
    {
     "data": {
      "text/plain": [
       "[<matplotlib.lines.Line2D at 0x7fbbef2e8ee0>]"
      ]
     },
     "execution_count": 14,
     "metadata": {},
     "output_type": "execute_result"
    },
    {
     "data": {
      "image/png": "[encoded data removed]",
      "text/plain": [
       "<Figure size 432x288 with 1 Axes>"
      ]
     },
     "metadata": {
      "needs_background": "light"
     },
     "output_type": "display_data"
    }
   ],
   "source": [
    "mp.plot(prices)"
   ]
  },
  {
   "cell_type": "code",
   "execution_count": 46,
   "metadata": {},
   "outputs": [
    {
     "name": "stdout",
     "output_type": "stream",
     "text": [
      "0.07945205479452055\n",
      "0.003478218441785686\n",
      "0.07945205479452055\n",
      "-0.08301114617878949\n",
      "0.07945205479452055\n",
      "-0.1619697498247447\n",
      "0.07945205479452055\n",
      "-0.23460462412051725\n",
      "0.07945205479452055\n",
      "-0.30185401382950444\n",
      "0.07945205479452055\n",
      "-0.36446169781988397\n",
      "0.07945205479452055\n",
      "-0.4230272749513082\n",
      "0.07945205479452055\n",
      "-0.4780411783143168\n",
      "0.07945205479452055\n",
      "-0.5299096660864144\n",
      "0.07945205479452055\n",
      "-0.5789730465570703\n",
      "0.07945205479452055\n",
      "-0.6255192229464474\n",
      "0.07945205479452055\n",
      "-0.6697939300911742\n",
      "0.07945205479452055\n",
      "-0.7120085875670227\n",
      "0.07945205479452055\n",
      "-0.7523464057193876\n",
      "0.07945205479452055\n",
      "-0.7909671912129779\n",
      "0.07945205479452055\n",
      "-0.8280111709415865\n",
      "0.07945205479452055\n",
      "-0.8636020655087502\n",
      "0.07945205479452055\n",
      "-0.8978495823480841\n",
      "0.07945205479452055\n",
      "-0.9308514552177375\n",
      "0.07945205479452055\n",
      "-0.9626951256462811\n",
      "0.07945205479452055\n",
      "-0.993459139208117\n",
      "0.07945205479452055\n",
      "-1.0232143127667448\n",
      "0.07945205479452055\n",
      "-1.0520247163395413\n",
      "0.07945205479452055\n",
      "-1.0799485038286922\n",
      "0.07945205479452055\n",
      "-1.10703861970255\n",
      "0.07945205479452055\n",
      "-1.1333434032128769\n",
      "0.07945205479452055\n",
      "-1.1589071074746473\n",
      "0.07945205479452055\n",
      "-1.1837703474103047\n",
      "0.07945205479452055\n",
      "-1.2079704879453033\n",
      "0.07945205479452055\n",
      "-1.23154198177042\n",
      "0.07945205479452055\n",
      "-1.2545166643346803\n",
      "0.07945205479452055\n",
      "-1.2769240124075494\n",
      "0.07945205479452055\n",
      "-1.298791371479407\n",
      "0.07945205479452055\n",
      "-1.3201441564011434\n",
      "0.07945205479452055\n",
      "-1.3410060289552557\n",
      "0.07945205479452055\n",
      "-1.3613990554697868\n",
      "0.07945205479452055\n",
      "-1.3813438471076207\n",
      "0.07945205479452055\n",
      "-1.4008596850672135\n",
      "0.07945205479452055\n",
      "-1.4199646326012108\n",
      "0.07945205479452055\n",
      "-1.438675635484167\n",
      "0.07945205479452055\n",
      "-1.4570086123298196\n",
      "0.07945205479452055\n",
      "-1.4749785359642194\n",
      "0.07945205479452055\n",
      "-1.492599506896983\n",
      "0.07945205479452055\n",
      "-1.5098848197939532\n",
      "0.07945205479452055\n",
      "-1.5268470237363172\n",
      "0.07945205479452055\n",
      "-1.5434979769503945\n",
      "0.07945205479452055\n",
      "-1.5598488966059705\n",
      "0.07945205479452055\n",
      "-1.575910404206973\n",
      "0.07945205479452055\n",
      "-1.591692567034514\n",
      "0.07945205479452055\n",
      "-1.6072049360472471\n",
      "0.07945205479452055\n",
      "-1.6224565805963498\n",
      "0.07945205479452055\n",
      "-1.6374561202710929\n",
      "0.07945205479452055\n",
      "-1.652211754154978\n",
      "0.07945205479452055\n",
      "-1.6667312877410767\n",
      "0.07945205479452055\n",
      "-1.681022157727774\n",
      "0.07945205479452055\n",
      "-1.6950914548921223\n",
      "0.07945205479452055\n",
      "-1.708945945216925\n",
      "0.07945205479452055\n",
      "-1.7225920894291324\n",
      "0.07945205479452055\n",
      "-1.7360360610907828\n",
      "0.07945205479452055\n",
      "-1.7492837633692901\n",
      "0.07945205479452055\n",
      "-1.7623408446011095\n",
      "0.07945205479452055\n",
      "-1.775212712751477\n",
      "0.07945205479452055\n",
      "-1.7879045488628802\n",
      "0.07945205479452055\n",
      "-1.8004213195759549\n",
      "0.07945205479452055\n",
      "-1.8127677887985374\n",
      "0.07945205479452055\n",
      "-1.8249485285914888\n",
      "0.07945205479452055\n",
      "-1.8369679293335357\n",
      "0.07945205479452055\n",
      "-1.8488302092216846\n",
      "0.07945205479452055\n",
      "-1.8605394231586525\n",
      "0.07945205479452055\n",
      "-1.8720994710741747\n",
      "0.07945205479452055\n",
      "-1.883514105722913\n",
      "0.07945205479452055\n",
      "-1.8947869399979866\n",
      "0.07945205479452055\n",
      "-1.9059214537957823\n",
      "0.07945205479452055\n",
      "-1.916921000464687\n",
      "0.07945205479452055\n",
      "-1.9277888128676395\n",
      "0.07945205479452055\n",
      "-1.9385280090859218\n",
      "0.07945205479452055\n",
      "-1.949141597789376\n",
      "0.07945205479452055\n",
      "-1.9596324832961831\n",
      "0.07945205479452055\n",
      "-1.9700034703434885\n",
      "0.07945205479452055\n",
      "-1.9802572685884836\n",
      "0.07945205479452055\n",
      "-1.9903964968580192\n",
      "0.07945205479452055\n",
      "-2.000423687163412\n",
      "0.07945205479452055\n",
      "-2.0103412884958534\n",
      "0.07945205479452055\n",
      "-2.0201516704166473\n",
      "0.07945205479452055\n",
      "-2.029857126455446\n",
      "0.07945205479452055\n",
      "-2.039459877328675\n",
      "0.07945205479452055\n",
      "-2.0489620739894434\n",
      "0.07945205479452055\n",
      "-2.05836580051942\n",
      "0.07945205479452055\n",
      "-2.0676730768723997\n",
      "0.07945205479452055\n",
      "-2.076885861478594\n"
     ]
    }
   ],
   "source": [
    "xrange = np.arange(1,10,0.1)\n",
    "yrange = [call_delta(strike_call,strike_call*xval,t,uty,sigma) for xval in xrange]"
   ]
  },
  {
   "cell_type": "code",
   "execution_count": 47,
   "metadata": {},
   "outputs": [
    {
     "data": {
      "text/plain": [
       "[<matplotlib.lines.Line2D at 0x7fbbef40aeb0>]"
      ]
     },
     "execution_count": 47,
     "metadata": {},
     "output_type": "execute_result"
    },
    {
     "data": {
      "image/png": "[encoded data removed]",
      "text/plain": [
       "<Figure size 432x288 with 1 Axes>"
      ]
     },
     "metadata": {
      "needs_background": "light"
     },
     "output_type": "display_data"
    }
   ],
   "source": [
    "mp.plot(xrange,yrange)"
   ]
  },
  {
   "cell_type": "code",
   "execution_count": 50,
   "metadata": {},
   "outputs": [
    {
     "data": {
      "text/plain": [
       "29.000000000000004"
      ]
     },
     "execution_count": 50,
     "metadata": {},
     "output_type": "execute_result"
    }
   ],
   "source": [
    "t*365"
   ]
  }
 ],
 "metadata": {
  "kernelspec": {
   "display_name": "Python 3",
   "language": "python",
   "name": "python3"
  },
  "language_info": {
   "codemirror_mode": {
    "name": "ipython",
    "version": 3
   },
   "file_extension": ".py",
   "mimetype": "text/x-python",
   "name": "python",
   "nbconvert_exporter": "python",
   "pygments_lexer": "ipython3",
   "version": "3.8.5"
  }
 },
 "nbformat": 4,
 "nbformat_minor": 4
}
